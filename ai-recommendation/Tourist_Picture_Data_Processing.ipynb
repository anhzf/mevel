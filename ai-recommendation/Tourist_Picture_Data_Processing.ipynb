{
  "nbformat": 4,
  "nbformat_minor": 0,
  "metadata": {
    "colab": {
      "name": "Tourist Picture Data Processing",
      "provenance": [],
      "collapsed_sections": []
    },
    "kernelspec": {
      "name": "python3",
      "display_name": "Python 3"
    },
    "language_info": {
      "name": "python"
    }
  },
  "cells": [
    {
      "cell_type": "markdown",
      "source": [
        "# **Data Cleaning & Processing**"
      ],
      "metadata": {
        "id": "M3KTpbI5U_QT"
      }
    },
    {
      "cell_type": "markdown",
      "source": [
        "## **Import & Generate Data**"
      ],
      "metadata": {
        "id": "_UnkBQmDVOKz"
      }
    },
    {
      "cell_type": "code",
      "execution_count": null,
      "metadata": {
        "id": "hwHKH4ABVsRH",
        "colab": {
          "base_uri": "https://localhost:8080/"
        },
        "outputId": "bef42ddb-2275-4a49-d0d1-8663d9d634aa"
      },
      "outputs": [
        {
          "output_type": "stream",
          "name": "stdout",
          "text": [
            "--2022-06-04 06:57:11--  http://loki.disi.unitn.it/~used/USED-test.tar.gz\n",
            "Resolving loki.disi.unitn.it (loki.disi.unitn.it)... 193.205.194.113\n",
            "Connecting to loki.disi.unitn.it (loki.disi.unitn.it)|193.205.194.113|:80... connected.\n",
            "HTTP request sent, awaiting response... 200 OK\n",
            "Length: 22362352915 (21G) [application/x-gzip]\n",
            "Saving to: ‘USED-test.tar.gz’\n",
            "\n",
            "USED-test.tar.gz    100%[===================>]  20.83G  28.6MB/s    in 12m 53s \n",
            "\n",
            "2022-06-04 07:10:05 (27.6 MB/s) - ‘USED-test.tar.gz’ saved [22362352915/22362352915]\n",
            "\n"
          ]
        }
      ],
      "source": [
        "! wget http://loki.disi.unitn.it/~used/USED-test.tar.gz"
      ]
    },
    {
      "cell_type": "code",
      "source": [
        "!tar -xzvf \"/content/USED-test.tar.gz\" -C \"/content/data/\"  "
      ],
      "metadata": {
        "id": "uRxmZrO4eBkf"
      },
      "execution_count": null,
      "outputs": []
    },
    {
      "cell_type": "code",
      "source": [
        "# regex lib\n",
        "import re\n",
        "# import data\n",
        "import csv"
      ],
      "metadata": {
        "id": "1FcrAP5GJbBN"
      },
      "execution_count": null,
      "outputs": []
    },
    {
      "cell_type": "code",
      "source": [
        "# provide list for filename\n",
        "filename = []\n",
        "new_file = []"
      ],
      "metadata": {
        "id": "Zju0apanL56Y"
      },
      "execution_count": null,
      "outputs": []
    },
    {
      "cell_type": "code",
      "source": [
        "# open file and append to list\n",
        "with open('/content/fashion_test.txt', \"r\") as file1:\n",
        "  for line in file1:\n",
        "    filename.append(line)"
      ],
      "metadata": {
        "id": "25lw5LaYNXis"
      },
      "execution_count": null,
      "outputs": []
    },
    {
      "cell_type": "code",
      "source": [
        "# replace string filename to produce namefile with its extention\n",
        "for file in filename:\n",
        "  new_file.append(re.sub(', fashion\\n$', '', file))"
      ],
      "metadata": {
        "id": "dDon6f6yO3BX"
      },
      "execution_count": null,
      "outputs": []
    },
    {
      "cell_type": "code",
      "source": [
        "# check result after replace\n",
        "new_file"
      ],
      "metadata": {
        "id": "cLWuruFTTEAv"
      },
      "execution_count": null,
      "outputs": []
    },
    {
      "cell_type": "code",
      "source": [
        "# directory management lib\n",
        "import os"
      ],
      "metadata": {
        "id": "LZzpXG-9UWSf"
      },
      "execution_count": null,
      "outputs": []
    },
    {
      "cell_type": "code",
      "source": [
        "# run it when you want to change to certain directory\n",
        "os.chdir('/content/data/test-part2') ## change path\n",
        "len(os.listdir())"
      ],
      "metadata": {
        "colab": {
          "base_uri": "https://localhost:8080/"
        },
        "id": "T1N3fQEeUdZh",
        "outputId": "3f3576f6-4664-422c-808e-c6d038c75703"
      },
      "execution_count": null,
      "outputs": [
        {
          "output_type": "execute_result",
          "data": {
            "text/plain": [
              "79379"
            ]
          },
          "metadata": {},
          "execution_count": 14
        }
      ]
    },
    {
      "cell_type": "code",
      "source": [
        "# Remove file not Necessary\n",
        "for file in os.listdir():\n",
        "  if(file not in new_file):\n",
        "    os.remove(file)"
      ],
      "metadata": {
        "id": "12m_toOUUr4Z"
      },
      "execution_count": null,
      "outputs": []
    },
    {
      "cell_type": "code",
      "source": [
        "# Folder count check\n",
        "len(os.listdir())"
      ],
      "metadata": {
        "colab": {
          "base_uri": "https://localhost:8080/"
        },
        "id": "XtaE7LNyVau4",
        "outputId": "70d2460b-cc7d-4950-b6fd-29cabbdefbff"
      },
      "execution_count": null,
      "outputs": [
        {
          "output_type": "execute_result",
          "data": {
            "text/plain": [
              "7000"
            ]
          },
          "metadata": {},
          "execution_count": 16
        }
      ]
    },
    {
      "cell_type": "code",
      "source": [
        "# Reduce Data (N)\n",
        "i = 1\n",
        "for file in os.listdir():\n",
        "  if(i >= 1000):\n",
        "    os.remove(file)\n",
        "  i += 1\n",
        "len(os.listdir())"
      ],
      "metadata": {
        "id": "3IUn2mEEYkww"
      },
      "execution_count": null,
      "outputs": []
    },
    {
      "cell_type": "code",
      "source": [
        "# remove folder contain file\n",
        "import shutil\n",
        "shutil.rmtree('/content/data/test-part1')"
      ],
      "metadata": {
        "id": "zu-JJYMpsgeO"
      },
      "execution_count": null,
      "outputs": []
    },
    {
      "cell_type": "code",
      "source": [
        "# copy file to merge directory\n",
        "import shutil\n",
        "shutil.copy2('/src/dir/file.ext', '/dst/dir/newname.ext') # complete target filename given"
      ],
      "metadata": {
        "id": "JyD-Kp-FjKhG"
      },
      "execution_count": null,
      "outputs": []
    },
    {
      "cell_type": "code",
      "source": [
        "!zip -r /content/fashion.zip /content/data/Fashion"
      ],
      "metadata": {
        "id": "YMA7mJPjbQrX"
      },
      "execution_count": null,
      "outputs": []
    },
    {
      "cell_type": "code",
      "source": [
        "from google.colab import files\n",
        "files.download(\"/content/fashion.zip\")"
      ],
      "metadata": {
        "colab": {
          "base_uri": "https://localhost:8080/",
          "height": 34
        },
        "id": "Hh95b9j7bjS7",
        "outputId": "85e6ccfb-5a53-44f5-e52c-fba0d6125b9f"
      },
      "execution_count": null,
      "outputs": [
        {
          "output_type": "display_data",
          "data": {
            "text/plain": [
              "<IPython.core.display.Javascript object>"
            ],
            "application/javascript": [
              "\n",
              "    async function download(id, filename, size) {\n",
              "      if (!google.colab.kernel.accessAllowed) {\n",
              "        return;\n",
              "      }\n",
              "      const div = document.createElement('div');\n",
              "      const label = document.createElement('label');\n",
              "      label.textContent = `Downloading \"${filename}\": `;\n",
              "      div.appendChild(label);\n",
              "      const progress = document.createElement('progress');\n",
              "      progress.max = size;\n",
              "      div.appendChild(progress);\n",
              "      document.body.appendChild(div);\n",
              "\n",
              "      const buffers = [];\n",
              "      let downloaded = 0;\n",
              "\n",
              "      const channel = await google.colab.kernel.comms.open(id);\n",
              "      // Send a message to notify the kernel that we're ready.\n",
              "      channel.send({})\n",
              "\n",
              "      for await (const message of channel.messages) {\n",
              "        // Send a message to notify the kernel that we're ready.\n",
              "        channel.send({})\n",
              "        if (message.buffers) {\n",
              "          for (const buffer of message.buffers) {\n",
              "            buffers.push(buffer);\n",
              "            downloaded += buffer.byteLength;\n",
              "            progress.value = downloaded;\n",
              "          }\n",
              "        }\n",
              "      }\n",
              "      const blob = new Blob(buffers, {type: 'application/binary'});\n",
              "      const a = document.createElement('a');\n",
              "      a.href = window.URL.createObjectURL(blob);\n",
              "      a.download = filename;\n",
              "      div.appendChild(a);\n",
              "      a.click();\n",
              "      div.remove();\n",
              "    }\n",
              "  "
            ]
          },
          "metadata": {}
        },
        {
          "output_type": "display_data",
          "data": {
            "text/plain": [
              "<IPython.core.display.Javascript object>"
            ],
            "application/javascript": [
              "download(\"download_192f1d8c-7a08-44ee-9d57-67c737d90e28\", \"fashion.zip\", 108192666)"
            ]
          },
          "metadata": {}
        }
      ]
    }
  ]
}